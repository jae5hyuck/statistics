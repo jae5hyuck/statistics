{
 "cells": [
  {
   "cell_type": "markdown",
   "id": "385baa82-474f-430d-8ea8-9642ec9bda8f",
   "metadata": {},
   "source": [
    "# 시각화d"
   ]
  },
  {
   "cell_type": "markdown",
   "id": "bc05b030-534d-4e24-881a-3cd20c2e6ddd",
   "metadata": {},
   "source": [
    "## 1"
   ]
  },
  {
   "cell_type": "code",
   "execution_count": 3,
   "id": "0bf21835-dd46-4c31-acb1-48fcb39459a6",
   "metadata": {},
   "outputs": [],
   "source": [
    "#테스트하는 중입니다. 시각화부터 해야합니다. 깃허브연동중입니다."
   ]
  },
  {
   "cell_type": "code",
   "execution_count": 5,
   "id": "78aaa8d1-e242-437d-8ef3-271c122852d5",
   "metadata": {},
   "outputs": [],
   "source": [
    "n=2"
   ]
  },
  {
   "cell_type": "code",
   "execution_count": 6,
   "id": "f85212db-8b4d-40c3-82a8-b7184ec8ac72",
   "metadata": {},
   "outputs": [
    {
     "name": "stdout",
     "output_type": "stream",
     "text": [
      "hi\n"
     ]
    }
   ],
   "source": [
    "print(\"hi\")"
   ]
  }
 ],
 "metadata": {
  "kernelspec": {
   "display_name": "Python 3 (ipykernel)",
   "language": "python",
   "name": "python3"
  },
  "language_info": {
   "codemirror_mode": {
    "name": "ipython",
    "version": 3
   },
   "file_extension": ".py",
   "mimetype": "text/x-python",
   "name": "python",
   "nbconvert_exporter": "python",
   "pygments_lexer": "ipython3",
   "version": "3.11.8"
  }
 },
 "nbformat": 4,
 "nbformat_minor": 5
}
