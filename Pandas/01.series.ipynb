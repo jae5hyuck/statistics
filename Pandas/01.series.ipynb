{
 "cells": [
  {
   "cell_type": "markdown",
   "id": "d6425763-9a36-479b-be5d-1a70a5f049b8",
   "metadata": {},
   "source": [
    "# Pandas\n",
    "파이썬에서 사용하는 데이터 분석 라이브러리"
   ]
  },
  {
   "cell_type": "code",
   "execution_count": 1,
   "id": "357b797c-efc9-4947-a2bb-3d11ddf29095",
   "metadata": {},
   "outputs": [],
   "source": [
    "import pandas as pd # pandas 소환"
   ]
  },
  {
   "cell_type": "markdown",
   "id": "dff22f12-428d-4750-8c82-917427c8d417",
   "metadata": {},
   "source": [
    "# 1.series\n",
    "1차형 데이터 (정수, 실수, 문자열 등)"
   ]
  },
  {
   "cell_type": "markdown",
   "id": "2a146be6-805f-4607-bc93-b52363a50f09",
   "metadata": {},
   "source": [
    "# Series 객체 생성\n",
    "## 예) 1월부터 4월까지 평균 온도데이터(-20,-10,10,20)"
   ]
  },
  {
   "cell_type": "code",
   "execution_count": 7,
   "id": "a1a98c57-64a0-4be1-9243-61a180170a1e",
   "metadata": {},
   "outputs": [
    {
     "name": "stdout",
     "output_type": "stream",
     "text": [
      "0   -20\n",
      "1   -10\n",
      "2    10\n",
      "3    20\n",
      "dtype: int64\n"
     ]
    }
   ],
   "source": [
    "temp = pd.Series([-20, -10, 10, 20]) # 리스트 형태\n",
    "print(temp)\n",
    "#print 안하고 temp로만 가능하다"
   ]
  },
  {
   "cell_type": "code",
   "execution_count": 8,
   "id": "cf4ff08d-0ade-4607-b0cb-e17df7c42586",
   "metadata": {},
   "outputs": [
    {
     "data": {
      "text/plain": [
       "-20"
      ]
     },
     "execution_count": 8,
     "metadata": {},
     "output_type": "execute_result"
    }
   ],
   "source": [
    "temp[0] # 1월 온도"
   ]
  },
  {
   "cell_type": "markdown",
   "id": "ca4849d5-a96a-4e7f-ad03-591369101878",
   "metadata": {},
   "source": [
    "# Series 객체 생성(index 지정)"
   ]
  },
  {
   "cell_type": "code",
   "execution_count": 9,
   "id": "50fe17e5-5176-4bcf-adaf-ac2969e1ed70",
   "metadata": {},
   "outputs": [
    {
     "data": {
      "text/plain": [
       "Jan   -20\n",
       "Fab   -10\n",
       "Mar    10\n",
       "Apr    20\n",
       "dtype: int64"
      ]
     },
     "execution_count": 9,
     "metadata": {},
     "output_type": "execute_result"
    }
   ],
   "source": [
    "temp = pd.Series([-20, -10, 10, 20],index=['Jan','Fab','Mar','Apr'])\n",
    "temp"
   ]
  },
  {
   "cell_type": "code",
   "execution_count": 10,
   "id": "e31c6523-06a6-4af5-ab91-929bb3b9909e",
   "metadata": {},
   "outputs": [
    {
     "data": {
      "text/plain": [
       "-20"
      ]
     },
     "execution_count": 10,
     "metadata": {},
     "output_type": "execute_result"
    }
   ],
   "source": [
    "temp['Jan']"
   ]
  },
  {
   "cell_type": "code",
   "execution_count": null,
   "id": "dc01525c-11eb-4dae-8895-ddf91bd22723",
   "metadata": {},
   "outputs": [],
   "source": [
    "# Pandas 파이썬에서 사용하는 데이터 분석 라이브러리"
   ]
  },
  {
   "cell_type": "code",
   "execution_count": null,
   "id": "dfb90bfe-5768-49eb-89c3-e7a31dd95653",
   "metadata": {},
   "outputs": [],
   "source": []
  },
  {
   "cell_type": "code",
   "execution_count": null,
   "id": "32da39a4",
   "metadata": {},
   "outputs": [],
   "source": []
  },
  {
   "cell_type": "code",
   "execution_count": null,
   "id": "e4c2cbe5",
   "metadata": {},
   "outputs": [],
   "source": []
  }
 ],
 "metadata": {
  "kernelspec": {
   "display_name": "Python 3 (ipykernel)",
   "language": "python",
   "name": "python3"
  },
  "language_info": {
   "codemirror_mode": {
    "name": "ipython",
    "version": 3
   },
   "file_extension": ".py",
   "mimetype": "text/x-python",
   "name": "python",
   "nbconvert_exporter": "python",
   "pygments_lexer": "ipython3",
   "version": "3.11.8"
  }
 },
 "nbformat": 4,
 "nbformat_minor": 5
}
